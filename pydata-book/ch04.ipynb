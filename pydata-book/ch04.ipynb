{
 "cells": [
  {
   "cell_type": "code",
   "execution_count": null,
   "id": "153cc210-0dfc-4073-838d-7b29109e7e18",
   "metadata": {},
   "outputs": [],
   "source": [
    "import numpy as np\n",
    "\n",
    "data = np.array([[1.5, -0.1, 3], [0, -3, 6.5]])\n",
    "\n",
    "data1 = [6, 7.5, 8, 0, 1]\n",
    "\n",
    "arr1 = np.array(data1)\n",
    "\n",
    "data\n",
    "\n",
    "arr1"
   ]
  },
  {
   "cell_type": "code",
   "execution_count": null,
   "id": "e29846bd-6d39-4c45-8826-e28b7ed1220c",
   "metadata": {},
   "outputs": [],
   "source": [
    "data * 10"
   ]
  },
  {
   "cell_type": "code",
   "execution_count": null,
   "id": "da8a506a",
   "metadata": {},
   "outputs": [],
   "source": [
    "data.shape\n",
    "\n",
    "data.dtype"
   ]
  },
  {
   "cell_type": "code",
   "execution_count": null,
   "id": "8e764101",
   "metadata": {},
   "outputs": [],
   "source": [
    "data + data"
   ]
  },
  {
   "cell_type": "markdown",
   "id": "771bf109",
   "metadata": {},
   "source": [
    "np.array 会尝试为数组推断出合适的类型"
   ]
  },
  {
   "cell_type": "code",
   "execution_count": null,
   "id": "d08d511f",
   "metadata": {},
   "outputs": [],
   "source": [
    "data2 = [[1, 2, 3], [4, 5, 6]]\n",
    "\n",
    "arr2 = np.array(data2)\n",
    "\n",
    "print(arr2.ndim, arr2.shape, arr2.dtype)"
   ]
  },
  {
   "cell_type": "code",
   "execution_count": null,
   "id": "1f45125a",
   "metadata": {},
   "outputs": [],
   "source": [
    "np.zeros((3, 4))"
   ]
  },
  {
   "cell_type": "code",
   "execution_count": null,
   "id": "114a8d41",
   "metadata": {},
   "outputs": [],
   "source": [
    "arr3 = np.array([1, 2, 3], dtype=np.float64)\n",
    "\n",
    "arr3.dtype"
   ]
  },
  {
   "cell_type": "code",
   "execution_count": null,
   "id": "60980aec",
   "metadata": {},
   "outputs": [],
   "source": [
    "arr4 = np.array([1, 2, 3, 4])\n",
    "\n",
    "print(arr4)\n",
    "print(arr4.dtype)\n",
    "\n",
    "float_arr = arr4.astype(np.float64)\n",
    "\n",
    "print(float_arr)\n",
    "print(float_arr.dtype)"
   ]
  },
  {
   "cell_type": "markdown",
   "id": "715637c9",
   "metadata": {},
   "source": [
    "astype 会创建一个新的数组"
   ]
  },
  {
   "cell_type": "code",
   "execution_count": null,
   "id": "47526034",
   "metadata": {},
   "outputs": [],
   "source": [
    "int_arr = np.arange(10)\n",
    "\n",
    "print(int_arr)\n",
    "\n",
    "int_arr.astype(np.float64)"
   ]
  },
  {
   "cell_type": "code",
   "execution_count": null,
   "id": "668cbe72",
   "metadata": {},
   "outputs": [],
   "source": [
    "arr = np.array([[1, 2, 3], [4, 5, 6]])\n",
    "\n",
    "print(arr * arr)\n",
    "print(arr - arr)\n",
    "\n",
    "print(1 / arr)\n",
    "print(arr ** 0.5)\n",
    "\n",
    "arr2 = np.array([[0., 4., 1.], [7., 2., 12.]])\n",
    "\n",
    "print(arr > arr2)"
   ]
  },
  {
   "cell_type": "code",
   "execution_count": null,
   "id": "a6edea97",
   "metadata": {},
   "outputs": [],
   "source": [
    "arr = np.arange(10)\n",
    "# float 数会自动转成 int\n",
    "arr[5:7] = 34.4\n",
    "print(arr)\n",
    "print(arr.dtype)"
   ]
  },
  {
   "cell_type": "code",
   "execution_count": null,
   "id": "d7a0f27b",
   "metadata": {},
   "outputs": [],
   "source": [
    "arr = np.arange(10)\n",
    "\n",
    "arr[:] = 64\n",
    "\n",
    "arr_slice = arr[5:8]\n",
    "\n",
    "arr_slice[:] = 0\n",
    "\n",
    "print(arr)"
   ]
  },
  {
   "cell_type": "code",
   "execution_count": null,
   "id": "6d2ea9ea",
   "metadata": {},
   "outputs": [],
   "source": [
    "arr2d = np.array([[1, 2, 3], [4, 5, 6], [7, 8, 9]])\n",
    "\n",
    "print(arr2d[2, 1])\n",
    "print(arr2d[0])"
   ]
  },
  {
   "cell_type": "code",
   "execution_count": null,
   "id": "c0c170b7",
   "metadata": {},
   "outputs": [],
   "source": [
    "arr2d = np.array([[1, 2, 3], [4, 5, 6], [7, 8, 9]])\n",
    "\n",
    "print(arr2d)\n",
    "\n",
    "print(arr2d[:2])\n",
    "print(arr2d[:2, 1:])\n",
    "print(arr2d[1, :2])"
   ]
  },
  {
   "cell_type": "code",
   "execution_count": null,
   "id": "9869f2e3",
   "metadata": {},
   "outputs": [],
   "source": [
    "import random\n",
    "position = 0\n",
    "walk = [position]\n",
    "nsteps = 1000\n",
    "\n",
    "for i in range(nsteps):\n",
    "    step = 1 if random.randint(0, 1) else -1\n",
    "    position += step\n",
    "    walk.append(position)\n",
    "\n",
    "import matplotlib.pyplot as plt\n",
    "plt.plot(walk[:100])\n",
    "plt.show()"
   ]
  },
  {
   "cell_type": "code",
   "execution_count": null,
   "id": "27c83cea",
   "metadata": {},
   "outputs": [],
   "source": [
    "nsteps = 1000\n",
    "\n",
    "rng = np.random.default_rng(12345)\n",
    "\n",
    "draws = rng.integers(0, 2, size=nsteps)\n",
    "\n",
    "steps = np.where(draws == 0, 1, -1)\n",
    "\n",
    "walk = steps.cumsum()\n",
    "\n",
    "print(walk.min())\n",
    "\n",
    "print(walk.max())\n",
    "\n",
    "print((np.abs(walk) >= 10).argmax())\n",
    "\n",
    "plt.plot(walk[:100])\n",
    "plt.show()"
   ]
  },
  {
   "cell_type": "code",
   "execution_count": null,
   "id": "13449a7e",
   "metadata": {},
   "outputs": [],
   "source": [
    "nwalks = 5000\n",
    "nsteps = 1000\n",
    "\n",
    "draws = rng.integers(0, 2, size=(nwalks, nsteps))\n",
    "\n",
    "steps = np.where(draws > 0, 1, -1)\n",
    "\n",
    "walks = steps.cumsum(axis=1)\n",
    "\n",
    "print(walks.max())\n",
    "print(walks.min())\n",
    "\n",
    "hits25 = (np.abs(walks) >= 25).any(1)\n",
    "\n",
    "crossing_times = (np.abs(walks[hits25]) >= 25).argmax(1)\n",
    "\n",
    "print(crossing_times.mean())"
   ]
  }
 ],
 "metadata": {
  "kernelspec": {
   "display_name": "pydata-book",
   "language": "python",
   "name": "python3"
  },
  "language_info": {
   "codemirror_mode": {
    "name": "ipython",
    "version": 3
   },
   "file_extension": ".py",
   "mimetype": "text/x-python",
   "name": "python",
   "nbconvert_exporter": "python",
   "pygments_lexer": "ipython3",
   "version": "3.10.16"
  }
 },
 "nbformat": 4,
 "nbformat_minor": 5
}
