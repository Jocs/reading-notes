{
 "cells": [
  {
   "cell_type": "code",
   "execution_count": 5,
   "id": "beef8609",
   "metadata": {},
   "outputs": [
    {
     "data": {
      "application/vnd.jupyter.widget-view+json": {
       "model_id": "dc8e0c4a9b9b44e294de36dcde93fc37",
       "version_major": 2,
       "version_minor": 0
      },
      "text/plain": [
       "Output()"
      ]
     },
     "metadata": {},
     "output_type": "display_data"
    },
    {
     "data": {
      "text/html": [
       "<pre style=\"white-space:pre;overflow-x:auto;line-height:normal;font-family:Menlo,'DejaVu Sans Mono',consolas,'Courier New',monospace\"></pre>\n"
      ],
      "text/plain": []
     },
     "metadata": {},
     "output_type": "display_data"
    }
   ],
   "source": [
    "from agno.agent import Agent\n",
    "from agno.models.deepseek import DeepSeek\n",
    "from agno.tools.reasoning import ReasoningTools\n",
    "from agno.tools.yfinance import YFinanceTools\n",
    "\n",
    "agent = Agent(\n",
    "    model=DeepSeek(),\n",
    "    tools=[\n",
    "        ReasoningTools(add_instructions=True),\n",
    "        YFinanceTools(stock_price=True, analyst_recommendations=True, company_info=True, company_news=True),\n",
    "    ],\n",
    "    instructions=[\n",
    "        \"Use tables to display data\",\n",
    "        \"Only output the report, no other text\",\n",
    "    ],\n",
    "    markdown=True,\n",
    ")\n",
    "agent.print_response(\"Write a report on NVDA\", stream=True, show_full_reasoning=True, stream_intermediate_steps=True)"
   ]
  }
 ],
 "metadata": {
  "kernelspec": {
   "display_name": "pydata-book",
   "language": "python",
   "name": "python3"
  },
  "language_info": {
   "codemirror_mode": {
    "name": "ipython",
    "version": 3
   },
   "file_extension": ".py",
   "mimetype": "text/x-python",
   "name": "python",
   "nbconvert_exporter": "python",
   "pygments_lexer": "ipython3",
   "version": "3.10.16"
  }
 },
 "nbformat": 4,
 "nbformat_minor": 5
}
