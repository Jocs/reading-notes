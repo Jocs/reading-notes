{
 "cells": [
  {
   "cell_type": "code",
   "execution_count": 5,
   "id": "f1dab967",
   "metadata": {},
   "outputs": [
    {
     "data": {
      "application/vnd.jupyter.widget-view+json": {
       "model_id": "62a6837e131340ffa9d2fcd5e01432f1",
       "version_major": 2,
       "version_minor": 0
      },
      "text/plain": [
       "Output()"
      ]
     },
     "metadata": {},
     "output_type": "display_data"
    },
    {
     "data": {
      "text/html": [
       "<pre style=\"white-space:pre;overflow-x:auto;line-height:normal;font-family:Menlo,'DejaVu Sans Mono',consolas,'Courier New',monospace\"></pre>\n"
      ],
      "text/plain": []
     },
     "metadata": {},
     "output_type": "display_data"
    },
    {
     "data": {
      "application/vnd.jupyter.widget-view+json": {
       "model_id": "c599a15797ac4effba7fd7fb83957be9",
       "version_major": 2,
       "version_minor": 0
      },
      "text/plain": [
       "Output()"
      ]
     },
     "metadata": {},
     "output_type": "display_data"
    },
    {
     "data": {
      "text/html": [
       "<pre style=\"white-space:pre;overflow-x:auto;line-height:normal;font-family:Menlo,'DejaVu Sans Mono',consolas,'Courier New',monospace\"></pre>\n"
      ],
      "text/plain": []
     },
     "metadata": {},
     "output_type": "display_data"
    }
   ],
   "source": [
    "from typing import List\n",
    "from pydantic import BaseModel, Field\n",
    "from agno.agent import Agent\n",
    "from agno.models.deepseek import DeepSeek\n",
    "\n",
    "class MovieScript(BaseModel):\n",
    "    setting: str = Field(..., description=\"Provide a nice setting for a blockbuster movie.\")\n",
    "    ending: str = Field(..., description=\"Ending of the movie. If not available, provide a happy ending.\")\n",
    "    genre: str = Field(\n",
    "        ..., description=\"Genre of the movie. If not available, select action, thriller or romantic comedy.\"\n",
    "    )\n",
    "    name: str = Field(..., description=\"Give a name to this movie\")\n",
    "    characters: List[str] = Field(..., description=\"Name of characters for this movie.\")\n",
    "    storyline: str = Field(..., description=\"3 sentence storyline for the movie. Make it exciting!\")\n",
    "\n",
    "# Agent that uses JSON mode\n",
    "json_mode_agent = Agent(\n",
    "    model=DeepSeek(),\n",
    "    description=\"You write movie scripts.\",\n",
    "    response_model=MovieScript,\n",
    "    use_json_mode=True,\n",
    ")\n",
    "json_mode_agent.print_response(\"北京\")\n",
    "\n",
    "# Agent that uses structured outputs\n",
    "structured_output_agent = Agent(\n",
    "    model=DeepSeek(),\n",
    "    description=\"You write movie scripts.\",\n",
    "    response_model=MovieScript,\n",
    ")\n",
    "\n",
    "structured_output_agent.print_response(\"New York\")"
   ]
  }
 ],
 "metadata": {
  "kernelspec": {
   "display_name": "pydata-book",
   "language": "python",
   "name": "python3"
  },
  "language_info": {
   "codemirror_mode": {
    "name": "ipython",
    "version": 3
   },
   "file_extension": ".py",
   "mimetype": "text/x-python",
   "name": "python",
   "nbconvert_exporter": "python",
   "pygments_lexer": "ipython3",
   "version": "3.10.16"
  }
 },
 "nbformat": 4,
 "nbformat_minor": 5
}
