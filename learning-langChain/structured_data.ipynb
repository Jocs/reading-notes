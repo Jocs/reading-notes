{
 "cells": [
  {
   "cell_type": "code",
   "execution_count": 3,
   "id": "865f1873",
   "metadata": {},
   "outputs": [],
   "source": [
    "import getpass\n",
    "import os\n",
    "\n",
    "try:\n",
    "    # load environment variables from .env file (requires `python-dotenv`)\n",
    "    from dotenv import load_dotenv\n",
    "\n",
    "    load_dotenv()\n",
    "except ImportError:\n",
    "    pass\n",
    "\n",
    "os.environ[\"LANGSMITH_TRACING\"] = \"true\"\n",
    "if \"LANGSMITH_API_KEY\" not in os.environ:\n",
    "    os.environ[\"LANGSMITH_API_KEY\"] = getpass.getpass(\n",
    "        prompt=\"Enter your LangSmith API key (optional): \"\n",
    "    )\n",
    "if \"LANGSMITH_PROJECT\" not in os.environ:\n",
    "    os.environ[\"LANGSMITH_PROJECT\"] = getpass.getpass(\n",
    "        prompt='Enter your LangSmith Project Name (default = \"default\"): '\n",
    "    )\n",
    "    if not os.environ.get(\"LANGSMITH_PROJECT\"):\n",
    "        os.environ[\"LANGSMITH_PROJECT\"] = \"default\"\n",
    "if \"DEEPSEEK_API_KEY\" not in os.environ:\n",
    "    os.environ[\"DEEPSEEK_API_KEY\"] = getpass.getpass(\n",
    "        prompt=\"Enter your DeepSeek API key (required if using DeepSeek): \"\n",
    "    )\n",
    "    \n",
    "from langchain_deepseek import ChatDeepSeek\n",
    "\n",
    "llm = ChatDeepSeek(\n",
    "    model=\"deepseek-chat\",\n",
    "    temperature=0,\n",
    "    max_tokens=None,\n",
    "    timeout=None,\n",
    "    max_retries=2,\n",
    "    # other params...\n",
    ")"
   ]
  },
  {
   "cell_type": "code",
   "execution_count": 5,
   "id": "3bf6585e",
   "metadata": {},
   "outputs": [
    {
     "data": {
      "text/plain": [
       "{'setup': \"Why don't cats play poker in the jungle?\",\n",
       " 'punchline': 'Too many cheetahs!',\n",
       " 'rating': 7}"
      ]
     },
     "execution_count": 5,
     "metadata": {},
     "output_type": "execute_result"
    }
   ],
   "source": [
    "from typing import Optional\n",
    "from typing_extensions import Annotated, TypedDict\n",
    "\n",
    "class Joke(TypedDict):\n",
    "    \"\"\"Joke to tell user.\"\"\"\n",
    "\n",
    "    setup: Annotated[str, ..., \"The setup of the joke.\"]\n",
    "    punchline: Annotated[str, ..., \"The punchline of the joke.\"]\n",
    "    rating: Annotated[Optional[int], None, \"How funny the joke is. from 1 to 10.\"]\n",
    "    \n",
    "structured_llm = llm.with_structured_output(Joke)\n",
    "\n",
    "structured_llm.invoke(\"Tell me a joke about cats.\")"
   ]
  },
  {
   "cell_type": "code",
   "execution_count": 4,
   "id": "78bedcef",
   "metadata": {},
   "outputs": [
    {
     "data": {
      "text/plain": [
       "Joke(setup=\"Why don't cats play poker in the wild?\", punchline='Too many cheetahs!', rating=7)"
      ]
     },
     "execution_count": 4,
     "metadata": {},
     "output_type": "execute_result"
    }
   ],
   "source": [
    "from typing import Optional\n",
    "from pydantic import BaseModel, Field\n",
    "\n",
    "# Pydantic\n",
    "class Joke(BaseModel):\n",
    "    \"\"\"Joke to tell user.\"\"\"\n",
    "    \n",
    "    setup: str = Field(description=\"The setup of the joke.\")\n",
    "    punchline: str = Field(description=\"The punchline of the joke.\")\n",
    "    rating: Optional[int] = Field(\n",
    "        default=None,\n",
    "        description=\"How funny the joke is, from 1 to 10. 1 is not funny at all, 10 is very funny.\",\n",
    "    )\n",
    "    \n",
    "structured_llm = llm.with_structured_output(Joke)\n",
    "structured_llm.invoke(\"Tell me a joke about cats\")"
   ]
  },
  {
   "cell_type": "code",
   "execution_count": 7,
   "id": "0ce8fc8a",
   "metadata": {},
   "outputs": [
    {
     "data": {
      "text/plain": [
       "FinalResponse(final_output=Joke(setup='Why did the panda from China refuse to eat the sandwich?', punchline='Because it was a bamboo-zle!', rating=7))"
      ]
     },
     "execution_count": 7,
     "metadata": {},
     "output_type": "execute_result"
    }
   ],
   "source": [
    "from typing import Union\n",
    "\n",
    "class Joke(BaseModel):\n",
    "    \"\"\"Joke to tell user.\"\"\"\n",
    "    \n",
    "    setup: str = Field(description=\"The setup of the joke.\")\n",
    "    punchline: str = Field(description=\"The punchline of the joke.\")\n",
    "    rating: Optional[Union[int, float]] = Field(\n",
    "        default=None,\n",
    "        description=\"How funny the joke is, from 1 to 10. 1 is not funny at all, 10 is very funny.\",\n",
    "    )\n",
    "    \n",
    "class ConversationalResponse(BaseModel):\n",
    "    \"\"\"Respond in a conversational manner. Be kind and friendly.\"\"\"\n",
    "    \n",
    "    response: str = Field(description=\"A conversational response to the user's query.\")\n",
    "\n",
    "class FinalResponse(BaseModel):\n",
    "    final_output: Union[Joke, ConversationalResponse]\n",
    "    \n",
    "structured_llm = llm.with_structured_output(FinalResponse)\n",
    "\n",
    "structured_llm.invoke(\"Tell me a joke about China\")"
   ]
  },
  {
   "cell_type": "code",
   "execution_count": 8,
   "id": "dc57fb20",
   "metadata": {},
   "outputs": [
    {
     "data": {
      "text/plain": [
       "FinalResponse(final_output=ConversationalResponse(response='中国的首都是北京。'))"
      ]
     },
     "execution_count": 8,
     "metadata": {},
     "output_type": "execute_result"
    }
   ],
   "source": [
    "structured_llm.invoke(\"中国首都是哪里？\")"
   ]
  },
  {
   "cell_type": "code",
   "execution_count": 10,
   "id": "20383372",
   "metadata": {},
   "outputs": [
    {
     "name": "stdout",
     "output_type": "stream",
     "text": [
      "{}\n",
      "{'setup': ''}\n",
      "{'setup': 'Why'}\n",
      "{'setup': 'Why did'}\n",
      "{'setup': 'Why did the'}\n",
      "{'setup': 'Why did the cat'}\n",
      "{'setup': 'Why did the cat sit'}\n",
      "{'setup': 'Why did the cat sit on'}\n",
      "{'setup': 'Why did the cat sit on the'}\n",
      "{'setup': 'Why did the cat sit on the computer'}\n",
      "{'setup': 'Why did the cat sit on the computer?'}\n",
      "{'setup': 'Why did the cat sit on the computer?', 'punchline': ''}\n",
      "{'setup': 'Why did the cat sit on the computer?', 'punchline': 'To'}\n",
      "{'setup': 'Why did the cat sit on the computer?', 'punchline': 'To keep'}\n",
      "{'setup': 'Why did the cat sit on the computer?', 'punchline': 'To keep an'}\n",
      "{'setup': 'Why did the cat sit on the computer?', 'punchline': 'To keep an eye'}\n",
      "{'setup': 'Why did the cat sit on the computer?', 'punchline': 'To keep an eye on'}\n",
      "{'setup': 'Why did the cat sit on the computer?', 'punchline': 'To keep an eye on the'}\n",
      "{'setup': 'Why did the cat sit on the computer?', 'punchline': 'To keep an eye on the mouse'}\n",
      "{'setup': 'Why did the cat sit on the computer?', 'punchline': 'To keep an eye on the mouse!'}\n",
      "{'setup': 'Why did the cat sit on the computer?', 'punchline': 'To keep an eye on the mouse!', 'rating': 7}\n"
     ]
    }
   ],
   "source": [
    "from typing_extensions import Annotated, TypedDict\n",
    "\n",
    "# TypedDict\n",
    "class Joke(TypedDict):\n",
    "    \"\"\"Joke to tell user.\"\"\"\n",
    "    \n",
    "    setup: Annotated[str, ..., \"The setup of the joke.\"]\n",
    "    punchline: Annotated[str, ..., \"The punchline of the joke.\"]\n",
    "    rating: Annotated[Optional[int], None, \"How funny the joke is. from 1 to 10.\"]\n",
    "    \n",
    "structured_llm = llm.with_structured_output(Joke)\n",
    "\n",
    "for chunk in structured_llm.stream(\"Tell me a joke about cats\"):\n",
    "    print(chunk)"
   ]
  },
  {
   "cell_type": "code",
   "execution_count": 13,
   "id": "0b1459ca",
   "metadata": {},
   "outputs": [
    {
     "data": {
      "text/plain": [
       "{'setup': 'Meow', 'punchline': 'Meow you’re just kitten around!', 'rating': 7}"
      ]
     },
     "execution_count": 13,
     "metadata": {},
     "output_type": "execute_result"
    }
   ],
   "source": [
    "from langchain_core.prompts import ChatPromptTemplate\n",
    "\n",
    "system = \"\"\"You are a hilarious comedian. Your specialty is knock-knock jokes. \\\n",
    "Return a joke which has the setup (the response to \"Who's there?\") and the final punchline (the response to \"<setup> who?\").\n",
    "\n",
    "Here are some examples of jokes:\n",
    "\n",
    "example_user: Tell me a joke about planes\n",
    "example_assistant: {{\"setup\": \"Why don't planes ever get tired?\", \"punchline\": \"Because they have rest wings!\", \"rating\": 2}}\n",
    "\n",
    "example_user: Tell me another joke about planes\n",
    "example_assistant: {{\"setup\": \"Cargo\", \"punchline\": \"Cargo 'vroom vroom', but planes go 'zoom zoom'!\", \"rating\": 10}}\n",
    "\n",
    "example_user: Now about caterpillars\n",
    "example_assistant: {{\"setup\": \"Caterpillar\", \"punchline\": \"Caterpillar really slow, but watch me turn into a butterfly and steal the show!\", \"rating\": 5}}\"\"\"\n",
    "\n",
    "prompt = ChatPromptTemplate.from_messages([(\"system\", system), (\"human\", \"{input}\")])\n",
    "\n",
    "few_shot_structured_llm = prompt | structured_llm\n",
    "few_shot_structured_llm.invoke(\"Tell me a joke about cats\")"
   ]
  }
 ],
 "metadata": {
  "kernelspec": {
   "display_name": "pydata-book",
   "language": "python",
   "name": "python3"
  },
  "language_info": {
   "codemirror_mode": {
    "name": "ipython",
    "version": 3
   },
   "file_extension": ".py",
   "mimetype": "text/x-python",
   "name": "python",
   "nbconvert_exporter": "python",
   "pygments_lexer": "ipython3",
   "version": "3.10.16"
  }
 },
 "nbformat": 4,
 "nbformat_minor": 5
}
