{
 "cells": [
  {
   "cell_type": "code",
   "execution_count": 1,
   "id": "1177f67e",
   "metadata": {},
   "outputs": [
    {
     "data": {
      "application/vnd.jupyter.widget-view+json": {
       "model_id": "0ce92ce901524ce78066b3d0a47d3650",
       "version_major": 2,
       "version_minor": 0
      },
      "text/plain": [
       "Output()"
      ]
     },
     "metadata": {},
     "output_type": "display_data"
    },
    {
     "data": {
      "text/html": [
       "<pre style=\"white-space:pre;overflow-x:auto;line-height:normal;font-family:Menlo,'DejaVu Sans Mono',consolas,'Courier New',monospace\"></pre>\n"
      ],
      "text/plain": []
     },
     "metadata": {},
     "output_type": "display_data"
    }
   ],
   "source": [
    "from agno.agent import Agent\n",
    "from agno.models.deepseek import DeepSeek\n",
    "from agno.tools.yfinance import YFinanceTools\n",
    "\n",
    "agent = Agent(\n",
    "    model=DeepSeek(),\n",
    "    tools=[YFinanceTools(stock_price=True)],\n",
    "    instructions=[\n",
    "        \"Use tables to display data.\",\n",
    "        \"Only include the table in your response. No other text.\",\n",
    "    ],\n",
    "    markdown=True,\n",
    ")\n",
    "agent.print_response(\"What is the stock price of Apple?\", stream=True)"
   ]
  }
 ],
 "metadata": {
  "kernelspec": {
   "display_name": "pydata-book",
   "language": "python",
   "name": "python3"
  },
  "language_info": {
   "codemirror_mode": {
    "name": "ipython",
    "version": 3
   },
   "file_extension": ".py",
   "mimetype": "text/x-python",
   "name": "python",
   "nbconvert_exporter": "python",
   "pygments_lexer": "ipython3",
   "version": "3.10.16"
  }
 },
 "nbformat": 4,
 "nbformat_minor": 5
}
