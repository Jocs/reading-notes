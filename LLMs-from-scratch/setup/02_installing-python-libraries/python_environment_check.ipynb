{
 "cells": [
  {
   "cell_type": "markdown",
   "id": "c31e08b0-f551-4d67-b95e-41f49de3b392",
   "metadata": {},
   "source": [
    "<font size=\"1\">\n",
    "Supplementary code for \"Build a Large Language Model From Scratch\": <a href=\"https://www.manning.com/books/build-a-large-language-model-from-scratch\">https://www.manning.com/books/build-a-large-language-model-from-scratch</a> by <a href=\"https://sebastianraschka.com\">Sebastian Raschka</a><br>\n",
    "Code repository: <a href=\"https://github.com/rasbt/LLMs-from-scratch\">https://github.com/rasbt/LLMs-from-scratch</a>\n",
    "</font>"
   ]
  },
  {
   "cell_type": "code",
   "execution_count": 1,
   "id": "67f6f7ed-b67d-465b-bf6f-a99b0d996930",
   "metadata": {},
   "outputs": [
    {
     "name": "stdout",
     "output_type": "stream",
     "text": [
      "[OK] Your Python version is 3.10.12\n",
      "[OK] numpy 1.26.0\n",
      "[OK] matplotlib 3.8.2\n",
      "[OK] jupyterlab 4.0.6\n",
      "[OK] tensorflow 2.15.0\n",
      "[OK] torch 2.2.1\n",
      "[OK] tqdm 4.66.1\n",
      "[OK] tiktoken 0.5.1\n"
     ]
    }
   ],
   "source": [
    "from python_environment_check import check_packages, get_requirements_dict\n",
    "\n",
    "d = get_requirements_dict()\n",
    "check_packages(d)"
   ]
  }
 ],
 "metadata": {
  "kernelspec": {
   "display_name": "Python 3 (ipykernel)",
   "language": "python",
   "name": "python3"
  },
  "language_info": {
   "codemirror_mode": {
    "name": "ipython",
    "version": 3
   },
   "file_extension": ".py",
   "mimetype": "text/x-python",
   "name": "python",
   "nbconvert_exporter": "python",
   "pygments_lexer": "ipython3",
   "version": "3.10.6"
  }
 },
 "nbformat": 4,
 "nbformat_minor": 5
}
