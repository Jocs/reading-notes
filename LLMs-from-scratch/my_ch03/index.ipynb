{
 "cells": [
  {
   "cell_type": "markdown",
   "id": "d4433674",
   "metadata": {},
   "source": [
    "### 编码注意力机制（Coding attention mechanisms）"
   ]
  },
  {
   "cell_type": "code",
   "execution_count": 57,
   "id": "6f03b3d5",
   "metadata": {},
   "outputs": [],
   "source": [
    "import torch\n",
    "\n",
    "x = torch.tensor(\n",
    "  [[0.43, 0.15, 0.89], # Your     (x^1)\n",
    "   [0.55, 0.87, 0.66], # journey  (x^2)\n",
    "   [0.57, 0.85, 0.64], # starts   (x^3)\n",
    "   [0.22, 0.58, 0.33], # with     (x^4)\n",
    "   [0.77, 0.25, 0.10], # one      (x^5)\n",
    "   [0.05, 0.80, 0.55]] # step     (x^6)\n",
    ")"
   ]
  },
  {
   "cell_type": "code",
   "execution_count": 58,
   "id": "f927504c",
   "metadata": {},
   "outputs": [
    {
     "name": "stdout",
     "output_type": "stream",
     "text": [
      "tensor([0.1385, 0.2379, 0.2333, 0.1240, 0.1082, 0.1581])\n"
     ]
    }
   ],
   "source": [
    "input_query = x[1]\n",
    "\n",
    "attention_scores = torch.empty(x.shape[0])\n",
    "\n",
    "for i, ipx in enumerate(x):\n",
    "    attention_scores[i] = torch.dot(ipx, input_query)\n",
    "    \n",
    "attention_weights = torch.softmax(attention_scores, dim=-1)\n",
    "\n",
    "print(attention_weights)"
   ]
  },
  {
   "cell_type": "code",
   "execution_count": 59,
   "id": "2dc34fc3",
   "metadata": {},
   "outputs": [
    {
     "name": "stdout",
     "output_type": "stream",
     "text": [
      "tensor([0., 0., 0.])\n",
      "tensor([0.4419, 0.6515, 0.5683])\n"
     ]
    }
   ],
   "source": [
    "context_vec = torch.zeros(x.shape[1])\n",
    "print(context_vec)\n",
    "\n",
    "for i, w in enumerate(attention_weights):\n",
    "    context_vec += w * x[i]\n",
    "    \n",
    "print(context_vec)"
   ]
  },
  {
   "cell_type": "markdown",
   "id": "c7b37bdf",
   "metadata": {},
   "source": [
    "#### 3.3.2 Computing attention weights for all input tokens"
   ]
  },
  {
   "cell_type": "code",
   "execution_count": 60,
   "id": "4d889bab",
   "metadata": {},
   "outputs": [
    {
     "name": "stdout",
     "output_type": "stream",
     "text": [
      "tensor([[0.2098, 0.2006, 0.1981, 0.1242, 0.1220, 0.1452],\n",
      "        [0.1385, 0.2379, 0.2333, 0.1240, 0.1082, 0.1581],\n",
      "        [0.1390, 0.2369, 0.2326, 0.1242, 0.1108, 0.1565],\n",
      "        [0.1435, 0.2074, 0.2046, 0.1462, 0.1263, 0.1720],\n",
      "        [0.1526, 0.1958, 0.1975, 0.1367, 0.1879, 0.1295],\n",
      "        [0.1385, 0.2184, 0.2128, 0.1420, 0.0988, 0.1896]])\n",
      "tensor([[0.4300, 0.1500, 0.8900],\n",
      "        [0.5500, 0.8700, 0.6600],\n",
      "        [0.5700, 0.8500, 0.6400],\n",
      "        [0.2200, 0.5800, 0.3300],\n",
      "        [0.7700, 0.2500, 0.1000],\n",
      "        [0.0500, 0.8000, 0.5500]])\n",
      "tensor([[0.4421, 0.5931, 0.5790],\n",
      "        [0.4419, 0.6515, 0.5683],\n",
      "        [0.4431, 0.6496, 0.5671],\n",
      "        [0.4304, 0.6298, 0.5510],\n",
      "        [0.4671, 0.5910, 0.5266],\n",
      "        [0.4177, 0.6503, 0.5645]])\n"
     ]
    }
   ],
   "source": [
    "attention_scores = x @ x.T\n",
    "attention_weights = torch.softmax(attention_scores, dim=-1)\n",
    "\n",
    "print(attention_weights)\n",
    "print(x)\n",
    "\n",
    "context_vecs = attention_weights @ x\n",
    "print(context_vecs)"
   ]
  },
  {
   "cell_type": "markdown",
   "id": "b53587ca",
   "metadata": {},
   "source": [
    "#### 3.4.1 Computing the attention weights step by step"
   ]
  },
  {
   "cell_type": "code",
   "execution_count": 61,
   "id": "3702f82d",
   "metadata": {},
   "outputs": [
    {
     "name": "stdout",
     "output_type": "stream",
     "text": [
      "torch.Size([2])\n",
      "torch.Size([6, 2])\n",
      "tensor([0.3061, 0.8210], grad_fn=<SqueezeBackward4>)\n"
     ]
    }
   ],
   "source": [
    "d_in = x.shape[1]\n",
    "d_out = 2\n",
    "input_2 = x[1]\n",
    "torch.manual_seed(123)\n",
    "Q_weights = torch.nn.Parameter(torch.rand(d_in, d_out))\n",
    "K_weights = torch.nn.Parameter(torch.rand(d_in, d_out))\n",
    "V_weights = torch.nn.Parameter(torch.rand(d_in, d_out))\n",
    "\n",
    "query_2 = input_2 @ Q_weights\n",
    "keys = x @ K_weights\n",
    "values = x @ V_weights\n",
    "\n",
    "d_k = keys.shape[1]\n",
    "\n",
    "print(query_2.shape)\n",
    "print(keys.shape)\n",
    "\n",
    "atten_scores_2 = query_2 @ keys.T\n",
    "\n",
    "atten_weights_2 = torch.softmax(atten_scores_2 / d_k**0.5, dim=-1)\n",
    "\n",
    "context_vec_2 = atten_weights_2 @ values\n",
    "\n",
    "print(context_vec_2)"
   ]
  },
  {
   "cell_type": "markdown",
   "id": "68b8eb76",
   "metadata": {},
   "source": [
    "#### 3.4.2 Implementing a compact SelfAttention class"
   ]
  },
  {
   "cell_type": "code",
   "execution_count": 62,
   "id": "b4739a52",
   "metadata": {},
   "outputs": [
    {
     "name": "stdout",
     "output_type": "stream",
     "text": [
      "tensor([[0.2996, 0.8053],\n",
      "        [0.3061, 0.8210],\n",
      "        [0.3058, 0.8203],\n",
      "        [0.2948, 0.7939],\n",
      "        [0.2927, 0.7891],\n",
      "        [0.2990, 0.8040]], grad_fn=<MmBackward0>)\n"
     ]
    }
   ],
   "source": [
    "import torch.nn as nn\n",
    "\n",
    "torch.manual_seed(123)\n",
    " \n",
    "class SelfAttention_v1(nn.Module):\n",
    "    def __init__(self, d_in, d_out):\n",
    "        super().__init__()\n",
    "        self.Q_weights = nn.Parameter(torch.rand(d_in, d_out))\n",
    "        self.K_weights = nn.Parameter(torch.rand(d_in, d_out))\n",
    "        self.V_weights = nn.Parameter(torch.rand(d_in, d_out))\n",
    "        \n",
    "    def forward(self, inputs):\n",
    "        queries = inputs @ self.Q_weights\n",
    "        keys = inputs @ self.K_weights\n",
    "        values = inputs @ self.V_weights\n",
    "        \n",
    "        atten_scores = queries @ keys.T\n",
    "        atten_weights = torch.softmax(atten_scores / d_k**0.5, dim=-1)\n",
    "        \n",
    "        context_vec = atten_weights @ values\n",
    "        \n",
    "        return context_vec\n",
    "    \n",
    "sa = SelfAttention_v1(d_in=d_in, d_out=d_out)\n",
    "context_vec = sa(x)\n",
    "\n",
    "print(context_vec)"
   ]
  },
  {
   "cell_type": "code",
   "execution_count": 63,
   "id": "e216660e",
   "metadata": {},
   "outputs": [
    {
     "name": "stdout",
     "output_type": "stream",
     "text": [
      "tensor([[-0.5337, -0.1051],\n",
      "        [-0.5323, -0.1080],\n",
      "        [-0.5323, -0.1079],\n",
      "        [-0.5297, -0.1076],\n",
      "        [-0.5311, -0.1066],\n",
      "        [-0.5299, -0.1081]], grad_fn=<MmBackward0>)\n"
     ]
    }
   ],
   "source": [
    "torch.manual_seed(123)\n",
    " \n",
    "class SelfAttention_v2(nn.Module):\n",
    "    def __init__(self, d_in, d_out, qkv_bias = False):\n",
    "        super().__init__()\n",
    "        self.Q_weights = nn.Linear(d_in, d_out, bias=qkv_bias)\n",
    "        self.K_weights = nn.Linear(d_in, d_out, bias=qkv_bias)\n",
    "        self.V_weights = nn.Linear(d_in, d_out, bias=qkv_bias)\n",
    "        \n",
    "    def forward(self, inputs):\n",
    "        queries = self.Q_weights(inputs)\n",
    "        keys = self.K_weights(inputs)\n",
    "        values = self.V_weights(inputs)\n",
    "        \n",
    "        atten_scores = queries @ keys.T\n",
    "        atten_weights = torch.softmax(atten_scores / d_k**0.5, dim=-1)\n",
    "        \n",
    "        context_vec = atten_weights @ values\n",
    "        \n",
    "        return context_vec\n",
    "    \n",
    "sa = SelfAttention_v2(d_in=d_in, d_out=d_out)\n",
    "context_vec = sa(x)\n",
    "\n",
    "print(context_vec)"
   ]
  },
  {
   "cell_type": "markdown",
   "id": "60964016",
   "metadata": {},
   "source": [
    "#### 3.5.1 Applying a causal attention mask"
   ]
  },
  {
   "cell_type": "code",
   "execution_count": 64,
   "id": "88baec8e",
   "metadata": {},
   "outputs": [
    {
     "name": "stdout",
     "output_type": "stream",
     "text": [
      "tensor([[0.3111,   -inf,   -inf,   -inf,   -inf,   -inf],\n",
      "        [0.1655, 0.2602,   -inf,   -inf,   -inf,   -inf],\n",
      "        [0.1667, 0.2602, 0.2577,   -inf,   -inf,   -inf],\n",
      "        [0.0510, 0.1080, 0.1064, 0.0643,   -inf,   -inf],\n",
      "        [0.1415, 0.1875, 0.1863, 0.0987, 0.1121,   -inf],\n",
      "        [0.0476, 0.1192, 0.1171, 0.0731, 0.0477, 0.0966]],\n",
      "       grad_fn=<MaskedFillBackward0>)\n",
      "tensor([[1.0000, 0.0000, 0.0000, 0.0000, 0.0000, 0.0000],\n",
      "        [0.4833, 0.5167, 0.0000, 0.0000, 0.0000, 0.0000],\n",
      "        [0.3190, 0.3408, 0.3402, 0.0000, 0.0000, 0.0000],\n",
      "        [0.2445, 0.2545, 0.2542, 0.2468, 0.0000, 0.0000],\n",
      "        [0.1994, 0.2060, 0.2058, 0.1935, 0.1953, 0.0000],\n",
      "        [0.1624, 0.1709, 0.1706, 0.1654, 0.1625, 0.1682]],\n",
      "       grad_fn=<SoftmaxBackward0>)\n"
     ]
    }
   ],
   "source": [
    "queries = sa.Q_weights(x)\n",
    "keys = sa.K_weights(x)\n",
    "values = sa.V_weights(x)\n",
    "        \n",
    "atten_scores = queries @ keys.T\n",
    "\n",
    "context_len = x.shape[0]\n",
    "mask = torch.triu(torch.ones(context_len, context_len), diagonal=1)\n",
    "masked_simple = atten_scores.masked_fill(mask.bool(), -torch.inf)\n",
    "print(masked_simple)\n",
    "\n",
    "atten_weights = torch.softmax(masked_simple / d_k**0.5, dim=-1)\n",
    "print(atten_weights)"
   ]
  },
  {
   "cell_type": "markdown",
   "id": "fe8e906a",
   "metadata": {},
   "source": [
    "#### 3.5.2 Masking additional attention weights with dropout"
   ]
  },
  {
   "cell_type": "code",
   "execution_count": 65,
   "id": "8aa574b8",
   "metadata": {},
   "outputs": [
    {
     "data": {
      "text/plain": [
       "tensor([[2., 2., 0., 2., 2., 0.],\n",
       "        [0., 0., 0., 2., 0., 2.],\n",
       "        [2., 2., 2., 2., 0., 2.],\n",
       "        [0., 2., 2., 0., 0., 2.],\n",
       "        [0., 2., 0., 2., 0., 2.],\n",
       "        [0., 2., 2., 2., 2., 0.]])"
      ]
     },
     "execution_count": 65,
     "metadata": {},
     "output_type": "execute_result"
    }
   ],
   "source": [
    "torch.manual_seed(123)\n",
    "\n",
    "dropout = torch.nn.Dropout(0.5)\n",
    "\n",
    "simple = torch.ones(6, 6)\n",
    "\n",
    "dropout(simple)"
   ]
  },
  {
   "cell_type": "markdown",
   "id": "83ce9627",
   "metadata": {},
   "source": [
    "#### 3.5.3 Implementing a compact causal self-attention class"
   ]
  },
  {
   "cell_type": "code",
   "execution_count": 66,
   "id": "0154b5e9",
   "metadata": {},
   "outputs": [
    {
     "data": {
      "text/plain": [
       "tensor([[[0.4300, 0.1500, 0.8900],\n",
       "         [0.5500, 0.8700, 0.6600],\n",
       "         [0.5700, 0.8500, 0.6400],\n",
       "         [0.2200, 0.5800, 0.3300],\n",
       "         [0.7700, 0.2500, 0.1000],\n",
       "         [0.0500, 0.8000, 0.5500]],\n",
       "\n",
       "        [[0.4300, 0.1500, 0.8900],\n",
       "         [0.5500, 0.8700, 0.6600],\n",
       "         [0.5700, 0.8500, 0.6400],\n",
       "         [0.2200, 0.5800, 0.3300],\n",
       "         [0.7700, 0.2500, 0.1000],\n",
       "         [0.0500, 0.8000, 0.5500]]])"
      ]
     },
     "execution_count": 66,
     "metadata": {},
     "output_type": "execute_result"
    }
   ],
   "source": [
    "batch = torch.stack((x, x), dim=0)\n",
    "batch"
   ]
  },
  {
   "cell_type": "code",
   "execution_count": 67,
   "id": "5c14ac78",
   "metadata": {},
   "outputs": [
    {
     "name": "stdout",
     "output_type": "stream",
     "text": [
      "tensor([[[-0.4519,  0.2216],\n",
      "         [-0.5874,  0.0058],\n",
      "         [-0.6300, -0.0632],\n",
      "         [-0.5675, -0.0843],\n",
      "         [-0.5526, -0.0981],\n",
      "         [-0.5299, -0.1081]],\n",
      "\n",
      "        [[-0.4519,  0.2216],\n",
      "         [-0.5874,  0.0058],\n",
      "         [-0.6300, -0.0632],\n",
      "         [-0.5675, -0.0843],\n",
      "         [-0.5526, -0.0981],\n",
      "         [-0.5299, -0.1081]]], grad_fn=<UnsafeViewBackward0>)\n"
     ]
    }
   ],
   "source": [
    "class CausalAttention(nn.Module):\n",
    "    def __init__(self, d_in, d_out, context_len, dropout, qkv_bias=False):\n",
    "        super().__init__()\n",
    "        self.d_out = d_out\n",
    "        self.Q_weights = nn.Linear(d_in, d_out, bias=qkv_bias)\n",
    "        self.K_weights = nn.Linear(d_in, d_out, bias=qkv_bias)\n",
    "        self.V_weights = nn.Linear(d_in, d_out, bias=qkv_bias)\n",
    "        self.dropout = nn.Dropout(dropout)\n",
    "        self.register_buffer('mask', torch.triu(torch.ones(context_len, context_len), diagonal=1))\n",
    "        \n",
    "    def forward(self, x):\n",
    "        b, num_tokens, d_in = x.shape\n",
    "        queries = self.Q_weights(x)\n",
    "        keys = self.K_weights(x)\n",
    "        values = self.V_weights(x)\n",
    "        \n",
    "        atten_scores = queries @ keys.transpose(1, 2)\n",
    "        atten_scores.masked_fill_(\n",
    "            self.mask.bool()[:num_tokens, :num_tokens], -torch.inf\n",
    "        )\n",
    "        \n",
    "        atten_weights = torch.softmax(atten_scores / keys.shape[-1]**0.5, dim=-1)\n",
    "        \n",
    "        atten_weights = self.dropout(atten_weights)\n",
    "        \n",
    "        context_vec = atten_weights @ values\n",
    "        \n",
    "        return context_vec\n",
    "\n",
    "torch.manual_seed(123) \n",
    "context_len = batch.shape[1]\n",
    "sa = CausalAttention(d_in=d_in, d_out=d_out, context_len=context_len, dropout=0)\n",
    "context_vec = sa(batch)\n",
    "\n",
    "print(context_vec)"
   ]
  },
  {
   "cell_type": "markdown",
   "id": "534f9e21",
   "metadata": {},
   "source": [
    "#### 3.6.1 Stacking multiple single-head attention layers"
   ]
  },
  {
   "cell_type": "code",
   "execution_count": 68,
   "id": "2cc86e95",
   "metadata": {},
   "outputs": [
    {
     "name": "stdout",
     "output_type": "stream",
     "text": [
      "tensor([[[-0.4519,  0.2216,  0.4772,  0.1063],\n",
      "         [-0.5874,  0.0058,  0.5891,  0.3257],\n",
      "         [-0.6300, -0.0632,  0.6202,  0.3860],\n",
      "         [-0.5675, -0.0843,  0.5478,  0.3589],\n",
      "         [-0.5526, -0.0981,  0.5321,  0.3428],\n",
      "         [-0.5299, -0.1081,  0.5077,  0.3493]],\n",
      "\n",
      "        [[-0.4519,  0.2216,  0.4772,  0.1063],\n",
      "         [-0.5874,  0.0058,  0.5891,  0.3257],\n",
      "         [-0.6300, -0.0632,  0.6202,  0.3860],\n",
      "         [-0.5675, -0.0843,  0.5478,  0.3589],\n",
      "         [-0.5526, -0.0981,  0.5321,  0.3428],\n",
      "         [-0.5299, -0.1081,  0.5077,  0.3493]]], grad_fn=<CatBackward0>)\n",
      "context_vecs.shape: torch.Size([2, 6, 4])\n"
     ]
    }
   ],
   "source": [
    "class MultiHeadAttentionWrapper(nn.Module):\n",
    "    def __init__(self, d_in, d_out, context_len, dropout, heads, qkv_bias=False):\n",
    "        super().__init__()\n",
    "        self.headers = nn.ModuleList([\n",
    "            CausalAttention(d_in, d_out, context_len, dropout, qkv_bias) for _ in range(heads)\n",
    "        ])\n",
    "        \n",
    "    def forward(self, x):\n",
    "        return torch.cat([ca(x) for ca in self.headers], dim=-1)\n",
    "    \n",
    "torch.manual_seed(123)\n",
    "context_length = batch.shape[1] # 这是词元的数量\n",
    "d_in, d_out = 3, 2\n",
    "mha = MultiHeadAttentionWrapper(\n",
    "    d_in, d_out, context_length, 0.0, heads=2\n",
    ")\n",
    "context_vecs = mha(batch)\n",
    "\n",
    "print(context_vecs)\n",
    "print(\"context_vecs.shape:\", context_vecs.shape)"
   ]
  },
  {
   "cell_type": "markdown",
   "id": "d03203f1",
   "metadata": {},
   "source": [
    "#### 3.6.2 通过权重划分实现多头注意力"
   ]
  },
  {
   "cell_type": "code",
   "execution_count": null,
   "id": "46f73832",
   "metadata": {},
   "outputs": [
    {
     "name": "stdout",
     "output_type": "stream",
     "text": [
      "tensor([[[-0.3132, -0.2272,  0.4772,  0.1063],\n",
      "         [-0.2320,  0.0293,  0.5789,  0.3056],\n",
      "         [-0.2068,  0.1162,  0.6118,  0.3695],\n",
      "         [-0.1635,  0.1328,  0.5457,  0.3531],\n",
      "         [-0.1687,  0.1813,  0.5315,  0.3400],\n",
      "         [-0.1411,  0.1727,  0.5063,  0.3432]],\n",
      "\n",
      "        [[-0.3132, -0.2272,  0.4772,  0.1063],\n",
      "         [-0.2320,  0.0293,  0.5789,  0.3056],\n",
      "         [-0.2068,  0.1162,  0.6118,  0.3695],\n",
      "         [-0.1635,  0.1328,  0.5457,  0.3531],\n",
      "         [-0.1687,  0.1813,  0.5315,  0.3400],\n",
      "         [-0.1411,  0.1727,  0.5063,  0.3432]]], grad_fn=<UnsafeViewBackward0>)\n"
     ]
    }
   ],
   "source": [
    "class MultiHeadAttention(nn.Module):\n",
    "    def __init__(self, d_in, d_out, context_len, dropout, num_heads, qkv_bias=False):\n",
    "        super().__init__()\n",
    "        \n",
    "        assert(d_out % num_heads == 0), \"d_out must be divisible by num_heads\"\n",
    "        \n",
    "        self.d_out = d_out\n",
    "        self.num_heads = num_heads\n",
    "        self.head_dim = d_out // num_heads\n",
    "        \n",
    "        self.Q_weights = nn.Linear(d_in, d_out, bias=qkv_bias)\n",
    "        self.K_weights = nn.Linear(d_in, d_out, bias=qkv_bias)\n",
    "        self.V_weights = nn.Linear(d_in, d_out, bias=qkv_bias)\n",
    "        self.out_proj = nn.Linear(d_out, d_out)\n",
    "        self.dropout = nn.Dropout(dropout)\n",
    "        self.register_buffer('mask', torch.triu(torch.ones(context_len, context_len), diagonal=1))\n",
    "        \n",
    "    def forward(self, x):\n",
    "        b, num_tokens, d_in = x.shape\n",
    "        queries = self.Q_weights(x)\n",
    "        keys = self.K_weights(x)\n",
    "        values = self.V_weights(x)\n",
    "        \n",
    "        keys = keys.view(b, num_tokens, self.num_heads, self.head_dim)\n",
    "        values = values.view(b, num_tokens, self.num_heads, self.head_dim)\n",
    "        queries = queries.view(b, num_tokens, self.num_heads, self.head_dim)\n",
    "        \n",
    "        keys = keys.transpose(1, 2)\n",
    "        queries = queries.transpose(1, 2)\n",
    "        values = values.transpose(1, 2)\n",
    "        \n",
    "        atten_scores = queries @ keys.transpose(2, 3)\n",
    "        atten_scores.masked_fill_(\n",
    "            self.mask.bool()[:num_tokens, :num_tokens], -torch.inf\n",
    "        )\n",
    "        \n",
    "        atten_weights = torch.softmax(atten_scores / keys.shape[-1]**0.5, dim=-1)\n",
    "        \n",
    "        atten_weights = self.dropout(atten_weights)\n",
    "        \n",
    "        context_vec = (atten_weights @ values).transpose(1, 2)\n",
    "        \n",
    "        context_vec = context_vec.contiguous().view(b, num_tokens, self.d_out)\n",
    "        \n",
    "        context_vec = self.out_proj(context_vec)\n",
    "        \n",
    "        return context_vec\n",
    "\n",
    "torch.manual_seed(123) \n",
    "context_len = batch.shape[1]\n",
    "\n",
    "d_out = 4\n",
    "\n",
    "sa = CausalAttention(d_in=d_in, d_out=d_out, context_len=context_len, dropout=0)\n",
    "context_vec = sa(batch)\n",
    "\n",
    "print(context_vec)"
   ]
  }
 ],
 "metadata": {
  "kernelspec": {
   "display_name": ".venv",
   "language": "python",
   "name": "python3"
  },
  "language_info": {
   "codemirror_mode": {
    "name": "ipython",
    "version": 3
   },
   "file_extension": ".py",
   "mimetype": "text/x-python",
   "name": "python",
   "nbconvert_exporter": "python",
   "pygments_lexer": "ipython3",
   "version": "3.11.12"
  }
 },
 "nbformat": 4,
 "nbformat_minor": 5
}
